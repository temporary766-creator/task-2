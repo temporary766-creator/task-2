{
 "cells": [
  {
   "cell_type": "markdown",
   "id": "0f505f7b",
   "metadata": {},
   "source": [
    "\n",
    "# Exploratory Data Analysis (EDA) on Titanic Dataset\n",
    "\n",
    "This notebook performs **Task 2: EDA** on the Titanic dataset using Python libraries.  \n",
    "We'll generate summary statistics, visualizations, and identify patterns in the data.\n"
   ]
  },
  {
   "cell_type": "code",
   "execution_count": null,
   "id": "32edb409",
   "metadata": {},
   "outputs": [],
   "source": [
    "\n",
    "import pandas as pd\n",
    "import matplotlib.pyplot as plt\n",
    "import seaborn as sns\n",
    "\n",
    "# Load dataset\n",
    "file_path = \"Titanic-Dataset.csv\"\n",
    "titanic_df = pd.read_csv(file_path)\n",
    "\n",
    "titanic_df.head()\n"
   ]
  },
  {
   "cell_type": "code",
   "execution_count": null,
   "id": "5cb47672",
   "metadata": {},
   "outputs": [],
   "source": [
    "\n",
    "# Dataset info\n",
    "titanic_df.info()\n"
   ]
  },
  {
   "cell_type": "code",
   "execution_count": null,
   "id": "c868dd82",
   "metadata": {},
   "outputs": [],
   "source": [
    "\n",
    "# Summary statistics\n",
    "titanic_df.describe(include=\"all\")\n"
   ]
  },
  {
   "cell_type": "code",
   "execution_count": null,
   "id": "a0b1fb0a",
   "metadata": {},
   "outputs": [],
   "source": [
    "\n",
    "# Histograms for numeric features\n",
    "titanic_df.hist(bins=20, figsize=(14, 10))\n",
    "plt.suptitle(\"Histograms of Numeric Features\")\n",
    "plt.show()\n"
   ]
  },
  {
   "cell_type": "code",
   "execution_count": null,
   "id": "b60b3bf8",
   "metadata": {},
   "outputs": [],
   "source": [
    "\n",
    "# Boxplots for numeric features\n",
    "plt.figure(figsize=(14, 8))\n",
    "titanic_df[[\"Age\", \"Fare\", \"SibSp\", \"Parch\"]].boxplot()\n",
    "plt.title(\"Boxplots of Numeric Features\")\n",
    "plt.show()\n"
   ]
  },
  {
   "cell_type": "code",
   "execution_count": null,
   "id": "5ce1e4ab",
   "metadata": {},
   "outputs": [],
   "source": [
    "\n",
    "# Correlation heatmap\n",
    "plt.figure(figsize=(10, 6))\n",
    "sns.heatmap(titanic_df.corr(numeric_only=True), annot=True, cmap=\"coolwarm\")\n",
    "plt.title(\"Correlation Heatmap of Numeric Features\")\n",
    "plt.show()\n"
   ]
  },
  {
   "cell_type": "markdown",
   "id": "c8358f8c",
   "metadata": {},
   "source": [
    "\n",
    "## 📈 Insights\n",
    "\n",
    "- **Class & Survival:** Higher-class passengers (Pclass 1) had higher survival chances.  \n",
    "- **Gender:** Females survived at a much higher rate than males.  \n",
    "- **Fare:** Passengers paying higher fares were more likely to survive.  \n",
    "- **Age:** Younger children had relatively better survival chances.  \n",
    "- **Missing Data:** Age, Cabin, and Embarked columns have missing values.\n",
    "\n",
    "---\n"
   ]
  },
  {
   "cell_type": "markdown",
   "id": "3576bddf",
   "metadata": {},
   "source": [
    "\n",
    "## 🎤 Interview Questions & Answers\n",
    "\n",
    "**1. What is the purpose of EDA?**  \n",
    "EDA helps us understand the dataset by summarizing its key characteristics, spotting missing values, detecting anomalies, and identifying patterns that can guide feature engineering and model building.\n",
    "\n",
    "**2. How do boxplots help in understanding a dataset?**  \n",
    "Boxplots show the data distribution, median, quartiles, and outliers. They are useful for detecting skewness and extreme values.\n",
    "\n",
    "**3. What is correlation and why is it useful?**  \n",
    "Correlation measures the relationship between two variables. It is useful in identifying redundant features (high correlation) or strong predictors of the target.\n",
    "\n",
    "**4. How do you detect skewness in data?**  \n",
    "By checking histograms, calculating skewness values, or observing asymmetry in boxplots.\n",
    "\n",
    "**5. What is multicollinearity?**  \n",
    "It occurs when independent variables are highly correlated with each other, which can distort model coefficients and reduce interpretability.\n",
    "\n",
    "**6. What tools do you use for EDA?**  \n",
    "Commonly: Pandas, NumPy, Matplotlib, Seaborn, Plotly. For large datasets: Spark or Dask.\n",
    "\n",
    "**7. Can you explain a time when EDA helped you find a problem?**  \n",
    "(Example) In Titanic data, EDA revealed many missing values in `Cabin`. This insight helps decide whether to drop the column or engineer new features from it.\n",
    "\n",
    "**8. What is the role of visualization in ML?**  \n",
    "Visualization makes patterns clear, highlights anomalies, and helps in communicating insights effectively to both technical and non-technical audiences.\n"
   ]
  }
 ],
 "metadata": {},
 "nbformat": 4,
 "nbformat_minor": 5
}
